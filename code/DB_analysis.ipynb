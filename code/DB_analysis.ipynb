{
 "cells": [
  {
   "cell_type": "code",
   "execution_count": null,
   "metadata": {
    "collapsed": true
   },
   "outputs": [],
   "source": [
    "from sklearn import preprocessing\n",
    "import numpy as np\n",
    "import pandas as pd\n",
    "from collections import defaultdict"
   ]
  },
  {
   "cell_type": "code",
   "execution_count": null,
   "metadata": {
    "collapsed": false
   },
   "outputs": [],
   "source": [
    "#import data\n",
    "fields = ['toolkit','forks','stars','so_tag_counts','so_question_count','search_results', 'growth_rate']\n",
    "DF = pd.read_csv('../output/DB_data.csv', usecols=fields)"
   ]
  },
  {
   "cell_type": "code",
   "execution_count": null,
   "metadata": {
    "collapsed": false
   },
   "outputs": [],
   "source": [
    "#replace not a number values with 0\n",
    "DF.fillna(0, inplace=True)"
   ]
  },
  {
   "cell_type": "code",
   "execution_count": null,
   "metadata": {
    "collapsed": false
   },
   "outputs": [],
   "source": [
    "#scale the values, such that for each metric: mean = 0 and std = 1\n",
    "metrics = ['forks','stars','so_tag_counts','so_question_count','search_results', 'growth_rate']\n",
    "scaled_DF = pd.DataFrame(columns=metrics)\n",
    "\n",
    "for metric in metrics:\n",
    "    mean = DF[metric].mean()\n",
    "    std = DF[metric].std()\n",
    "    scaled_DF[metric] = DF[metric].apply(lambda x: (x-mean)/std)\n",
    "\n",
    "scaled_DF['toolkit']= DF['toolkit']"
   ]
  },
  {
   "cell_type": "code",
   "execution_count": null,
   "metadata": {
    "collapsed": false
   },
   "outputs": [],
   "source": [
    "#merge forks and stars to one GitHub metric, Tags and Questions to Stack Overflow, and scale\n",
    "final_DF = pd.DataFrame(columns=['Toolkit', 'Rank', 'Overall', 'Github', 'Stack Overflow', 'Google Results'])\n",
    "final_DF['Library'] = scaled_DF['toolkit']\n",
    "final_DF['Github'] = scaled_DF[['forks', 'stars']].mean(axis=1)\n",
    "final_DF['Stack Overflow'] = scaled_DF[['so_tag_counts', 'so_question_count']].mean(axis=1)\n",
    "final_DF['Google Results'] = scaled_DF[['search_results', 'growth_rate']].mean(axis=1)\n",
    "\n",
    "#compute overall score and rank\n",
    "final_DF['Overall'] = final_DF[['Github','Stack Overflow','Google Results']].sum(axis=1)\n",
    "final_DF['Rank'] = final_DF['Overall'].rank(ascending=0).astype(int)"
   ]
  },
  {
   "cell_type": "code",
   "execution_count": null,
   "metadata": {
    "collapsed": false
   },
   "outputs": [],
   "source": [
    "#sort, reindex, and set style of rankings table\n",
    "final_DF.sort_values(['Overall'], axis=0, ascending=False, inplace=True)\n",
    "final_DF = final_DF.reindex_axis(['Library','Rank','Overall','Github','Stack Overflow','Google Results'], axis=1)\n",
    "try:\n",
    "    final_DF.style.set_table_styles([\n",
    "        {'selector': '.row_heading, .blank', 'props': [('display', 'none;')]}\n",
    "    ])\n",
    "except:\n",
    "    pass"
   ]
  },
  {
   "cell_type": "code",
   "execution_count": null,
   "metadata": {
    "collapsed": true
   },
   "outputs": [],
   "source": [
    "#save rankings table to csv file\n",
    "final_DF.to_csv('../output/DB_final_Rankings.csv', index = False)"
   ]
  },
  {
   "cell_type": "code",
   "execution_count": null,
   "metadata": {
    "collapsed": true
   },
   "outputs": [],
   "source": []
  }
 ],
 "metadata": {
  "anaconda-cloud": {},
  "kernelspec": {
   "display_name": "Python 2",
   "language": "python",
   "name": "python2"
  },
  "language_info": {
   "codemirror_mode": {
    "name": "ipython",
    "version": 2
   },
   "file_extension": ".py",
   "mimetype": "text/x-python",
   "name": "python",
   "nbconvert_exporter": "python",
   "pygments_lexer": "ipython2",
   "version": "2.7.13"
  }
 },
 "nbformat": 4,
 "nbformat_minor": 1
}
