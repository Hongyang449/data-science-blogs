{
 "cells": [
  {
   "cell_type": "markdown",
   "metadata": {},
   "source": [
    "## Ranking Cryptocurrencies"
   ]
  },
  {
   "cell_type": "code",
   "execution_count": null,
   "metadata": {
    "collapsed": true
   },
   "outputs": [],
   "source": [
    "import requests\n",
    "from retrying import retry\n",
    "import logging\n",
    "import pandas as pd\n",
    "import numpy as np\n",
    "import urllib2\n",
    "import dill\n",
    "import time\n",
    "import json\n",
    "from datetime import date, timedelta\n",
    "from bs4 import BeautifulSoup\n",
    "import unicodedata\n",
    "import csv\n",
    "import sys\n",
    "import get_stack_overflow_data as gso\n",
    "sys.path.append('../code')\n",
    "sys.path.append('../data')\n",
    "import re\n",
    "\n",
    "\n",
    "#function that adds a delay before running a function, to be used as a decorator.\n",
    "def sleeper(secs):\n",
    "    def realsleeper(func):\n",
    "        def wrapper(*args,**kwargs):\n",
    "            time.sleep(secs)\n",
    "            return func(*args,**kwargs)\n",
    "        return wrapper\n",
    "    return realsleeper"
   ]
  },
  {
   "cell_type": "markdown",
   "metadata": {},
   "source": [
    "### Create list of currencies"
   ]
  },
  {
   "cell_type": "markdown",
   "metadata": {},
   "source": [
    "### https://api.coinmarketcap.com"
   ]
  },
  {
   "cell_type": "code",
   "execution_count": null,
   "metadata": {
    "collapsed": true
   },
   "outputs": [],
   "source": [
    "#use coinmarketcap api to obtain list of top 100 cryptocurrencies by market cap value\n",
    "r = requests.get('https://api.coinmarketcap.com/v1/ticker/') \n",
    "financial_data = r.json()"
   ]
  },
  {
   "cell_type": "code",
   "execution_count": null,
   "metadata": {
    "collapsed": true
   },
   "outputs": [],
   "source": [
    "currency_list = [d['id'] for d in financial_data]"
   ]
  },
  {
   "cell_type": "code",
   "execution_count": null,
   "metadata": {
    "collapsed": false
   },
   "outputs": [],
   "source": [
    "print currency_list[:10]"
   ]
  },
  {
   "cell_type": "markdown",
   "metadata": {},
   "source": [
    "### Obtain market cap values"
   ]
  },
  {
   "cell_type": "code",
   "execution_count": null,
   "metadata": {
    "collapsed": true
   },
   "outputs": [],
   "source": [
    "#obtain market cap value data\n",
    "market_cap_list = [float(d['market_cap_usd']) for d in financial_data]"
   ]
  },
  {
   "cell_type": "code",
   "execution_count": null,
   "metadata": {
    "collapsed": false
   },
   "outputs": [],
   "source": [
    "print market_cap_list[:10]"
   ]
  },
  {
   "cell_type": "markdown",
   "metadata": {},
   "source": [
    "### Get 30 day trading volume and net market cap growth data"
   ]
  },
  {
   "cell_type": "code",
   "execution_count": null,
   "metadata": {
    "collapsed": true
   },
   "outputs": [],
   "source": [
    "#obtain list of symbols corresponding to cryptocurrencies\n",
    "symbol_list = [d['symbol'] for d in financial_data]"
   ]
  },
  {
   "cell_type": "code",
   "execution_count": null,
   "metadata": {
    "collapsed": false
   },
   "outputs": [],
   "source": [
    "print symbol_list[:10]"
   ]
  },
  {
   "cell_type": "code",
   "execution_count": null,
   "metadata": {
    "collapsed": false
   },
   "outputs": [],
   "source": [
    "#obtain 30 day trading volume data\n",
    "r1 = requests.get('https://coinmarketcap.com/currencies/volume/monthly/')\n",
    "soup1 = BeautifulSoup(r1.text, 'lxml')\n",
    "raw_list = []\n",
    "monthly_volume_list = []\n",
    "\n",
    "#extract monthly volume data from tr tags\n",
    "for currency in currency_list:\n",
    "    trtag = soup1.findAll('tr', attrs={'id':'id-' + currency})\n",
    "    contents1 = trtag[0].contents\n",
    "    raw_list.append(contents1)\n",
    "    monthly_volume = int(re.sub('[$,]', '',str(contents1[-2].contents[-2].contents[-1])))\n",
    "    monthly_volume_list.append(monthly_volume)\n"
   ]
  },
  {
   "cell_type": "code",
   "execution_count": null,
   "metadata": {
    "collapsed": false
   },
   "outputs": [],
   "source": [
    "#examine format of contents of tr tags by printing one of them\n",
    "trtag[0].contents"
   ]
  },
  {
   "cell_type": "markdown",
   "metadata": {},
   "source": [
    "### Save list of currencies to file"
   ]
  },
  {
   "cell_type": "code",
   "execution_count": null,
   "metadata": {
    "collapsed": true
   },
   "outputs": [],
   "source": [
    "toolkits = currency_list"
   ]
  },
  {
   "cell_type": "code",
   "execution_count": null,
   "metadata": {
    "collapsed": false
   },
   "outputs": [],
   "source": [
    "with open(\"../data/blockchain_final.txt\", \"w\") as f:\n",
    "    f.writelines(\" \".join(toolkits))"
   ]
  },
  {
   "cell_type": "markdown",
   "metadata": {},
   "source": [
    "### get metrics"
   ]
  },
  {
   "cell_type": "code",
   "execution_count": null,
   "metadata": {
    "collapsed": true
   },
   "outputs": [],
   "source": [
    "#create dataframe of financial metrics data\n",
    "financial = pd.DataFrame(\n",
    "    {'toolkit': currency_list,\n",
    "     'market_cap_value': market_cap_list,\n",
    "     'thirty_day_volume': monthly_volume_list\n",
    "    })"
   ]
  },
  {
   "cell_type": "code",
   "execution_count": null,
   "metadata": {
    "collapsed": true
   },
   "outputs": [],
   "source": [
    "logging.basicConfig(level=logging.INFO)"
   ]
  },
  {
   "cell_type": "markdown",
   "metadata": {},
   "source": [
    "### github stats"
   ]
  },
  {
   "cell_type": "code",
   "execution_count": null,
   "metadata": {
    "collapsed": false
   },
   "outputs": [],
   "source": [
    "with open(\"../code/secrets/github-token.nogit\", \"rb\") as f:\n",
    "    token = f.read()\n",
    "\n",
    "headers = {'Authorization': 'token %s' % token}\n",
    "\n",
    "@sleeper(3)#github will temporarily block requests from a user that makes more than 30 requests within a 60 second period. To be safe, use a 3 second pause between requests to limit rate to 20 requests per minute.\n",
    "@retry(wait_exponential_multiplier=3000,wait_exponential_max=12000,stop_max_attempt_number=3)#in case request fails, retry up to 3 times, starting with a 3 second wait period and doubling that period each time.\n",
    "def get_data_from_search_helper(query):\n",
    "    r = requests.get('https://api.github.com/search/repositories?q='+\\\n",
    "                             query, \n",
    "                     headers=headers)\n",
    "    return r\n",
    "\n",
    "def get_data_from_search(query):\n",
    "    \"\"\"Use github search to return stars, forks for top query result\"\"\"\n",
    "    \n",
    "    r = get_data_from_search_helper(query)\n",
    "    #r.raise_for_status()\n",
    "    try:\n",
    "        res = r.json()['items'][0]\n",
    "        return {'toolkit': query, 'full_name': res['full_name'],\n",
    "                'stars': int(res['stargazers_count']), 'forks': int(res['forks_count'])}\n",
    "    except:\n",
    "        return None"
   ]
  },
  {
   "cell_type": "code",
   "execution_count": null,
   "metadata": {
    "collapsed": true
   },
   "outputs": [],
   "source": [
    "data = [res for res in (get_data_from_search(q) for q in toolkits)\n",
    "        if res is not None]"
   ]
  },
  {
   "cell_type": "code",
   "execution_count": null,
   "metadata": {
    "collapsed": true
   },
   "outputs": [],
   "source": [
    "github = pd.DataFrame(data)[['toolkit', 'full_name', 'forks', 'stars']]"
   ]
  },
  {
   "cell_type": "code",
   "execution_count": null,
   "metadata": {
    "collapsed": false
   },
   "outputs": [],
   "source": [
    "with pd.option_context('display.width', 160, 'display.max_rows', None,'display.max_columns', None):\n",
    "    print(github)"
   ]
  },
  {
   "cell_type": "code",
   "execution_count": null,
   "metadata": {
    "collapsed": false
   },
   "outputs": [],
   "source": [
    "#github search returned wrong repo for some results, so they are manually changed below\n",
    "\n",
    "corrections = [\n",
    "    ('ethereum','ethereum'),\n",
    "    ('ripple','ripple'),\n",
    "    ('bitcoin-cash','Bitcoin-ABC/bitcoin-abc'),\n",
    "    ('litecoin','litecoin-project'),\n",
    "    ('stellar','stellar'),\n",
    "    ('tron','tronprotocol'),\n",
    "    ('dash','dashpay/dash'),\n",
    "    ('tether','hardlydifficult/Crypto/blob/master'),\n",
    "    ('vechain','vechain'),\n",
    "    ('ethereum-classic','ethereumproject'),\n",
    "    ('binance-coin','binance-exchange'),\n",
    "    ('icon',None),\n",
    "    ('monaco',None),\n",
    "    ('salt',None),\n",
    "    ('mithril',None),\n",
    "    ('status','status-im'),\n",
    "    ('storm',None),\n",
    "    ('centrality',None),\n",
    "    ('kin','kinecosystem/kin-token'),\n",
    "    ('waves','wavesplatform/WavesDevKit'),\n",
    "    ('lisk','LiskHQ'),\n",
    "    ('wax',\tNone),\n",
    "    ('augur','AugurProject/augur-core'),\n",
    "    ('mixin',None),\n",
    "    ('nano','nanocurrency/raiblocks'),\n",
    "    ('ark','ArkEcosystem'),\n",
    "    ('cortex',None),\n",
    "    ('komodo','KomodoPlatform'),\n",
    "    ('0x','0xProject'),\n",
    "    ('bytom','Bytom/bytom/tree/master/crypto'),\n",
    "    ('gas',None),\n",
    "    ('aeternity','aeternity/epoch'),\n",
    "    ('bancor',None),\n",
    "    ('ardor',None),\n",
    "    ('bytecoin-bcn','bcndev/bytecoin'),\n",
    "    ('cryptonex','Cryptonex'),\n",
    "    ('decred','decred'),\n",
    "    ('dentacoin','Dentacoin'),\n",
    "    ('electroneum','electroneum/electroneum'),\n",
    "    ('enigma-project','enigmapc'),\n",
    "    ('funfair','funfair-tech'),\n",
    "    ('gifto','GIFTO-io'),\n",
    "    ('golem-network-tokens','golemfactory/golem'),\n",
    "    ('gxchain','gxchain'),\n",
    "    ('iota','iotaledger'),\n",
    "    ('kyber-network','kybernetwork'),\n",
    "    ('loopring','loopring'),\n",
    "    ('maker','makerdao'),\n",
    "    ('nebulas-token',None),\n",
    "    ('nem',\t'NemProject'),\n",
    "    ('nucleus-vision','NucleusVision'),\n",
    "    ('nxt',\tNone),\n",
    "    ('ontology','ontio/ontology'),\n",
    "    ('pivx','PIVX-Project/PIVX'),\n",
    "    ('populous','bitpopulous'),\n",
    "    ('power-ledger',None),\n",
    "    ('qash',None),\n",
    "    ('reddcoin','reddcoin-project/reddcoin'),\n",
    "    ('revain','Revain'),\n",
    "    ('siacoin','NebulousLabs/Sia'),\n",
    "    ('stratis','stratisproject'),\n",
    "    ('syscoin','syscoin/syscoin'),\n",
    "    ('veritaseum','veritaseum'),\n",
    "    ('wanchain','wanchain')\n",
    "]\n",
    "\n",
    "#obtain correct stats\n",
    "@sleeper(3)#github will temporarily block requests from a user that makes more than 30 requests within a 60 second period. To be safe, use a 3 second pause between requests to limit rate to 20 requests per minute.\n",
    "@retry(wait_exponential_multiplier=3000,wait_exponential_max=12000,stop_max_attempt_number=3)#in case request fails, retry up to 3 times, starting with a 3 second wait period and doubling that period each time.\n",
    "def corrections_helper(full_name, headers):\n",
    "    r = requests.get('https://api.github.com/repos/' + full_name, headers=headers)        \n",
    "    return r\n",
    "\n",
    "for toolkit,full_name in corrections:\n",
    "    try:\n",
    "        r = corrections_helper(full_name,headers)\n",
    "        res = r.json()\n",
    "        print 'TOOLKIT:'\n",
    "        print toolkit\n",
    "        print 'FULL_NAME:'\n",
    "        print full_name\n",
    "        \n",
    "        print res\n",
    "\n",
    "        github.loc[github['toolkit'] == toolkit, 'full_name'] = full_name\n",
    "        github.loc[github['toolkit'] == toolkit, 'forks'] = res['forks_count']\n",
    "        github.loc[github['toolkit'] == toolkit, 'stars'] = res['stargazers_count']\n",
    "    except:#to handle None\n",
    "        print 'exception'\n",
    "        github.loc[github['toolkit'] == toolkit, 'full_name'] = None\n",
    "        github.loc[github['toolkit'] == toolkit, 'forks'] = 0\n",
    "        github.loc[github['toolkit'] == toolkit, 'stars'] = 0 "
   ]
  },
  {
   "cell_type": "code",
   "execution_count": null,
   "metadata": {
    "collapsed": false
   },
   "outputs": [],
   "source": [
    "github.sort_values(['stars'], ascending=False)"
   ]
  },
  {
   "cell_type": "code",
   "execution_count": null,
   "metadata": {
    "collapsed": true
   },
   "outputs": [],
   "source": [
    "github.to_csv(\"../data/blockchain_results_github.csv\", index=False)"
   ]
  },
  {
   "cell_type": "markdown",
   "metadata": {},
   "source": [
    "### stackoverflow stats"
   ]
  },
  {
   "cell_type": "code",
   "execution_count": null,
   "metadata": {
    "collapsed": false
   },
   "outputs": [],
   "source": [
    "#some items are overcounted because they are common words. List them here, and pair with the word cryptocurrency in searches in order to compensate for overcounting.\n",
    "overcounted_list = ['icon',\n",
    "'mixin',\n",
    "'storm',\n",
    "'0x',\n",
    "'dash',\n",
    "'apache storm',\n",
    "'ontology',\n",
    "'status',\n",
    "'salt',\n",
    "'gas',\n",
    "'ripple',\n",
    "'dash',\n",
    "'nano',\n",
    "'tether',\n",
    "'iota',\n",
    "'eos',\n",
    "'tron',\n",
    "'waves',\n",
    "'centrality',\n",
    "'maker',\n",
    "'cortex',\n",
    "'verge',\n",
    "'ark',\n",
    "'iota',\n",
    "'wax',\n",
    "'kin',\n",
    "'fusion']\n",
    "\n",
    "tag_list = [toolkit.replace(' ','-') for toolkit in toolkits]\n",
    "#tag_counts = gso.get_tag_counts(tag_list)\n",
    "\n",
    "@sleeper(3)#sleep to avoid throttling\n",
    "@retry(wait_exponential_multiplier=60000,wait_exponential_max=240000,stop_max_attempt_number=3)#in case request fails, retry up to 3 times, starting with a 1 minute wait period and doubling that period each time.\n",
    "def tag_counts_builder_helper(list_to_build,list_entry):\n",
    "    #compensate for overcounting by pairing common words with the word \"cryptocurrency\"\n",
    "    if(list_entry in overcounted_list):\n",
    "        list_entry = list_entry + '-cryptocurrency'\n",
    "    list_to_build += gso.get_tag_counts([list_entry])\n",
    "    \n",
    "tag_counts = []\n",
    "\n",
    "for x in tag_list:\n",
    "    tag_counts_builder_helper(tag_counts,x)\n",
    "\n",
    "df_tags = pd.DataFrame(tag_counts)[['name', 'count']]\n",
    "df_tags.columns = ['toolkit', 'so_tag_counts']\n",
    "df_tags"
   ]
  },
  {
   "cell_type": "code",
   "execution_count": null,
   "metadata": {
    "collapsed": false
   },
   "outputs": [],
   "source": [
    "#body_counts = {toolkit: gso.get_body_count(toolkit) for toolkit in tag_list}\n",
    "\n",
    "@sleeper(3)#attempt to avoid throttling\n",
    "@retry(wait_exponential_multiplier=60000,wait_exponential_max=240000,stop_max_attempt_number=3)#in case request fails, retry up to 3 times, starting with a 1 minute wait period and doubling that period each time.\n",
    "#function used in building a dict each of whose values is the body count of the corresponding key\n",
    "def body_counts_builder_helper(dict_to_build,key):\n",
    "    #compensate for overcounting by pairing common words with the word \"cryptocurrency\"\n",
    "    if(key in overcounted_list):\n",
    "        modified_key = key + ' cryptocurrency'\n",
    "    else:\n",
    "        modified_key = key\n",
    "    dict_to_build[key] = gso.get_body_count([modified_key])\n",
    "    \n",
    "body_counts = {}\n",
    "\n",
    "for x in tag_list:\n",
    "    body_counts_builder_helper(body_counts,x)"
   ]
  },
  {
   "cell_type": "code",
   "execution_count": null,
   "metadata": {
    "collapsed": true
   },
   "outputs": [],
   "source": [
    "df_questions = pd.DataFrame.from_dict(body_counts, orient='index')\n",
    "df_questions.reset_index(inplace=True)\n",
    "df_questions.columns = ['toolkit', 'so_question_count']"
   ]
  },
  {
   "cell_type": "code",
   "execution_count": null,
   "metadata": {
    "collapsed": true
   },
   "outputs": [],
   "source": [
    "so = df_tags.merge(df_questions, on='toolkit', how='outer')"
   ]
  },
  {
   "cell_type": "code",
   "execution_count": null,
   "metadata": {
    "collapsed": false
   },
   "outputs": [],
   "source": [
    "so['toolkit'] = so['toolkit'].apply(lambda x: str(x).replace('-',' '))\n",
    "so.sort_values(['so_question_count'], ascending=False).head(100)"
   ]
  },
  {
   "cell_type": "code",
   "execution_count": null,
   "metadata": {
    "collapsed": true
   },
   "outputs": [],
   "source": [
    "so.to_csv(\"../data/blockchain_results_stackoverflow.csv\", index=False)"
   ]
  },
  {
   "cell_type": "markdown",
   "metadata": {},
   "source": [
    "### google search results stats"
   ]
  },
  {
   "cell_type": "code",
   "execution_count": null,
   "metadata": {
    "collapsed": true
   },
   "outputs": [],
   "source": [
    "from googleapiclient.discovery import build"
   ]
  },
  {
   "cell_type": "code",
   "execution_count": null,
   "metadata": {
    "collapsed": false
   },
   "outputs": [],
   "source": [
    "with open(\"../code/secrets/google_token.nogit\", \"rb\") as f:\n",
    "    my_api_key = f.read()\n",
    "    \n",
    "with open(\"../code/secrets/cse_token.nogit\", \"rb\") as f:\n",
    "    my_cse_id = f.read()"
   ]
  },
  {
   "cell_type": "code",
   "execution_count": null,
   "metadata": {
    "collapsed": true
   },
   "outputs": [],
   "source": [
    "def search_term_modifier(search_term):\n",
    "    #replace space with +, indicating to search for both words:\n",
    "    search_term = search_term.replace(' ','+')\n",
    "    #since gas is a common word, use its alias, neogas:\n",
    "    if (search_term == 'gas'):\n",
    "        search_term = 'neogas'\n",
    "    return search_term"
   ]
  },
  {
   "cell_type": "code",
   "execution_count": null,
   "metadata": {
    "collapsed": false
   },
   "outputs": [],
   "source": [
    "def google_search_results_count(search_term, api_key, cse_id):\n",
    "    toolkit = search_term\n",
    "    search_term = search_term_modifier(search_term)\n",
    "    r= requests.get('https://www.googleapis.com/customsearch/v1?q=\"cryptocurrency\"+OR+\"blockchain\"&alt=json&cx='+\n",
    "                    my_cse_id+'&c2coff=1&dateRestrict=y5&exactTerms='+search_term+'&rc=1&key='+my_api_key)\n",
    "    res = r.json()['queries']['request'][0]\n",
    "    return {'toolkit': toolkit, 'search_results': int(res['totalResults'])}\n",
    "\n",
    "def google_quarterly_growth_rate(search_term, api_key, cse_id):\n",
    "    toolkit = search_term\n",
    "    search_term = search_term_modifier(search_term)\n",
    "    ##get count for last 6 months--- dateRestrict=m6\n",
    "    r= requests.get('https://www.googleapis.com/customsearch/v1?q=\"cryptocurrency\"+OR+\"blockchain\"&alt=json&cx='+\n",
    "                    my_cse_id+'&c2coff=1&dateRestrict=m6&exactTerms='+search_term+'&rc=1&key='+my_api_key)\n",
    "    res = r.json()['queries']['request'][0]\n",
    "    six_months = int(res['totalResults'])\n",
    "    ##get count for last 3 months--- dateRestrict=m3    \n",
    "    r= requests.get('https://www.googleapis.com/customsearch/v1?q=\"cryptocurrency\"+OR+\"blockchain\"&alt=json&cx='+\n",
    "                    my_cse_id+'&c2coff=1&dateRestrict=m3&exactTerms='+search_term+'&rc=1&key='+my_api_key)\n",
    "    res = r.json()['queries']['request'][0]\n",
    "    current_quarter = int(res['totalResults'])\n",
    "    \n",
    "    last_quarter = six_months - current_quarter\n",
    "    if (last_quarter == 0):#for handling the divide by 0 case\n",
    "        growth_rate = float('NaN')\n",
    "    else:\n",
    "        growth_rate = (float(current_quarter)-float(last_quarter))/float(last_quarter)\n",
    "    return {'toolkit': toolkit, 'growth_rate': growth_rate}"
   ]
  },
  {
   "cell_type": "code",
   "execution_count": null,
   "metadata": {
    "collapsed": false
   },
   "outputs": [],
   "source": [
    "@sleeper(2)#attempt to avoid throttling\n",
    "@retry(wait_exponential_multiplier=2000,wait_exponential_max=8000,stop_max_attempt_number=3)#in case request fails, retry up to 3 times, starting with a 2 second period and doubling that period each time.\n",
    "#function used in building a list each of whose values is the google search results count\n",
    "def google_results_builder_helper(list_to_build,query):\n",
    "    res = google_search_results_count(query, my_api_key, my_cse_id)\n",
    "    if res is not None:\n",
    "        list_to_build.append(res)\n",
    "        \n",
    "results = []\n",
    "for q in toolkits:\n",
    "    google_results_builder_helper(results,q)\n",
    "    \n",
    "resultsDF = pd.DataFrame(results)[['toolkit', 'search_results']]"
   ]
  },
  {
   "cell_type": "code",
   "execution_count": null,
   "metadata": {
    "collapsed": false
   },
   "outputs": [],
   "source": [
    "resultsDF.sort_values(['search_results'], ascending=False).head()"
   ]
  },
  {
   "cell_type": "code",
   "execution_count": null,
   "metadata": {
    "collapsed": false
   },
   "outputs": [],
   "source": [
    "resultsDF.sort_values(['search_results'], ascending=False).head()"
   ]
  },
  {
   "cell_type": "code",
   "execution_count": null,
   "metadata": {
    "collapsed": false
   },
   "outputs": [],
   "source": [
    "@sleeper(8)#sleep to avoid throttling\n",
    "@retry(wait_exponential_multiplier=8000,wait_exponential_max=32000,stop_max_attempt_number=3)#in case request fails, retry up to 3 times, starting with a 2 second period and doubling that period each time.\n",
    "#function used in building a list each of whose values is the google quarterly growth rate\n",
    "def growth_rate_builder_helper(list_to_build,query):\n",
    "    res = google_quarterly_growth_rate(query, my_api_key, my_cse_id)\n",
    "    if res is not None:\n",
    "        list_to_build.append(res)\n",
    "        \n",
    "growth_rate = []\n",
    "\n",
    "for q in toolkits:\n",
    "    growth_rate_builder_helper(growth_rate,q)\n",
    "    \n",
    "growthDF =  pd.DataFrame(growth_rate)[['toolkit', 'growth_rate']]"
   ]
  },
  {
   "cell_type": "code",
   "execution_count": null,
   "metadata": {
    "collapsed": false
   },
   "outputs": [],
   "source": [
    "growthDF.sort_values(['growth_rate'], ascending=False).head()"
   ]
  },
  {
   "cell_type": "code",
   "execution_count": null,
   "metadata": {
    "collapsed": true
   },
   "outputs": [],
   "source": [
    "googleDF = growthDF.merge(resultsDF, on='toolkit', copy = False)"
   ]
  },
  {
   "cell_type": "code",
   "execution_count": null,
   "metadata": {
    "collapsed": true
   },
   "outputs": [],
   "source": [
    "googleDF.to_csv(\"../data/blockchain_results_google.csv\", index=False)"
   ]
  },
  {
   "cell_type": "markdown",
   "metadata": {},
   "source": [
    "## Combine all data"
   ]
  },
  {
   "cell_type": "code",
   "execution_count": null,
   "metadata": {
    "collapsed": true
   },
   "outputs": [],
   "source": [
    "#in order to get consistent cryptocurrency names across tables, replace spaces with dashes in so table\n",
    "so['toolkit'] = so['toolkit'].apply(lambda x: x.replace(' ','-'))\n",
    "\n",
    "dltkDF = github.merge(so, on='toolkit', copy = False)\n",
    "dltkDF = dltkDF.merge(googleDF, on='toolkit', copy = False)\n",
    "dltkDF = dltkDF.merge(financial, on='toolkit', copy = False)"
   ]
  },
  {
   "cell_type": "code",
   "execution_count": null,
   "metadata": {
    "collapsed": false
   },
   "outputs": [],
   "source": [
    "dltkDF.head()"
   ]
  },
  {
   "cell_type": "code",
   "execution_count": null,
   "metadata": {
    "collapsed": false
   },
   "outputs": [],
   "source": [
    "dltkDF.to_csv(\"../output/blockchain_data.csv\", index=False)"
   ]
  },
  {
   "cell_type": "code",
   "execution_count": null,
   "metadata": {
    "collapsed": true
   },
   "outputs": [],
   "source": []
  }
 ],
 "metadata": {
  "anaconda-cloud": {},
  "kernelspec": {
   "display_name": "Python 2",
   "language": "python",
   "name": "python2"
  },
  "language_info": {
   "codemirror_mode": {
    "name": "ipython",
    "version": 2
   },
   "file_extension": ".py",
   "mimetype": "text/x-python",
   "name": "python",
   "nbconvert_exporter": "python",
   "pygments_lexer": "ipython2",
   "version": "2.7.13"
  }
 },
 "nbformat": 4,
 "nbformat_minor": 1
}
